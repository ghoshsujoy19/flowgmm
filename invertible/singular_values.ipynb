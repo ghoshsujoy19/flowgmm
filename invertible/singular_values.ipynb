{
 "cells": [
  {
   "cell_type": "code",
   "execution_count": 45,
   "metadata": {},
   "outputs": [
    {
     "name": "stdout",
     "output_type": "stream",
     "text": [
      "The line_profiler extension is already loaded. To reload it, use:\n",
      "  %reload_ext line_profiler\n"
     ]
    }
   ],
   "source": [
    "import sys,os\n",
    "import glob\n",
    "import torch,dill\n",
    "import torchvision.utils as vutils\n",
    "import matplotlib.pyplot as plt\n",
    "from iresnet import iResBlock\n",
    "from spectral_norm import SN\n",
    "import torch.nn as nn\n",
    "import torch.nn.functional as F\n",
    "import scipy as sp\n",
    "import numpy as np\n",
    "%load_ext line_profiler"
   ]
  },
  {
   "cell_type": "code",
   "execution_count": 8,
   "metadata": {},
   "outputs": [
    {
     "name": "stdout",
     "output_type": "stream",
     "text": [
      "['/home/marc/tb-experiments/iresnet_inv_test_sfixed2/CIFAR10/iResnet/s0.5/trial0/checkpoints/c10.trainer']\n"
     ]
    }
   ],
   "source": [
    "paths = glob.glob(os.path.expanduser('~/tb-experiments/iresnet_inv_test_sfixed2/**/*.trainer'),recursive=True)\n",
    "print(paths)"
   ]
  },
  {
   "cell_type": "code",
   "execution_count": 9,
   "metadata": {},
   "outputs": [],
   "source": [
    "trainer = torch.load(paths[-1],pickle_module=dill)\n",
    "trainer.model.eval();"
   ]
  },
  {
   "cell_type": "code",
   "execution_count": 83,
   "metadata": {},
   "outputs": [],
   "source": [
    "def eigh(mat):\n",
    "    #print(mat.shape)\n",
    "    return sp.linalg.eigh(mat,eigvals_only=True)\n",
    "\n",
    "def singularValues(kernel,input_shape):\n",
    "    transforms = np.fft.fft2(kernel,input_shape,axes=(0,1))\n",
    "    return np.linalg.svd(transforms,compute_uv=False)\n",
    "def singularValues2(kernel,input_shape):\n",
    "    #print(kernel.shape)\n",
    "    transforms = M= np.fft.fft2(kernel,input_shape,axes=(0,1))\n",
    "    c = M.shape[-1]\n",
    "    MtM = (M@M).reshape(-1,c,c)\n",
    "    #print(MtM.shape)\n",
    "    #eigh = lambda mat: sp.linalg.eigh(mat,eigvals=(c-1,c-1),eigvals_only=True)\n",
    "    s = []\n",
    "    for N in MtM:\n",
    "        s.append(sp.linalg.eigh(N,eigvals=(c-1,c-1),eigvals_only=True))\n",
    "    eigs = np.array(s)\n",
    "    print(eigs.shape)\n",
    "    return eigs\n",
    "    #eigs = np.vectorize(eigh)(MtM)#np.apply_along_axis(eigh,0,MtM)\n",
    "    print(eigs.shape)\n",
    "#     A = np.real(transforms)\n",
    "#     B = np.imag(transforms)\n",
    "#     A_mB = np.concatenate((A,-B),axis=3).astype(np.float32)\n",
    "#     B_A = np.concatenate((B,A),axis=3).astype(np.float32)\n",
    "#     embedded_matrix = np.concatenate((A_mB,B_A),axis=2)\n",
    "#     h,w,c2,_ = embedded_matrix.shape\n",
    "#     M = torch.from_numpy(embedded_matrix.reshape(-1,c2,c2)).cuda()\n",
    "#     M_t = M.permute((0,2,1))\n",
    "#     MtM = torch.bmm(M_t,M)\n",
    "    #print(embedded_matrix.shape)\n",
    "    #return torch.svd(M,compute_uv=False).cpu().data.numpy()"
   ]
  },
  {
   "cell_type": "code",
   "execution_count": 101,
   "metadata": {},
   "outputs": [],
   "source": [
    "def get_singular_values(trainer):\n",
    "    h = 32\n",
    "    channels = 32\n",
    "    s = []\n",
    "    for module in trainer.model[1].modules():\n",
    "        if isinstance(module,SN):\n",
    "            s_ = module._s\n",
    "        if isinstance(module,nn.Conv2d):\n",
    "            if module.weight.shape[0]>channels:\n",
    "                h//=2\n",
    "                channels = module.weight.shape[0]\n",
    "            w = module.weight.cpu().data.clone()/torch.max(s_.cpu(),torch.tensor(1.))\n",
    "    #         w2 = F.pad(w,(0,h-3,0,h-3))\n",
    "    #         print(w2.shape)\n",
    "            #w2_np  =w2.data.numpy()\n",
    "            # 3 x 3 x c x c\n",
    "            s.append(np.random.choice(singularValues(w.data.permute((2,3,0,1)).numpy(),(h//4,h//4)).reshape(-1),300))\n",
    "    return s"
   ]
  },
  {
   "cell_type": "code",
   "execution_count": 102,
   "metadata": {},
   "outputs": [
    {
     "data": {
      "text/plain": [
       "Text(0, 0.5, 'Eigenvalues')"
      ]
     },
     "execution_count": 102,
     "metadata": {},
     "output_type": "execute_result"
    },
    {
     "data": {
      "image/png": "[encoded data removed]",
      "text/plain": [
       "<Figure size 432x288 with 1 Axes>"
      ]
     },
     "metadata": {
      "needs_background": "light"
     },
     "output_type": "display_data"
    }
   ],
   "source": [
    "s = get_singular_values(trainer)\n",
    "for i in range(len(s)):\n",
    "    singulars = s[i].reshape(-1)\n",
    "    plt.scatter(i*np.ones_like(singulars),singulars)\n",
    "plt.xlabel(\"Layer\")\n",
    "plt.ylabel(r\"Eigenvalues\")"
   ]
  },
  {
   "cell_type": "code",
   "execution_count": 103,
   "metadata": {},
   "outputs": [
    {
     "data": {
      "text/plain": [
       "Timer unit: 1e-06 s\n",
       "\n",
       "Total time: 0.22841 s\n",
       "File: <ipython-input-83-baf59d13d4d7>\n",
       "Function: singularValues at line 5\n",
       "\n",
       "Line #      Hits         Time  Per Hit   % Time  Line Contents\n",
       "==============================================================\n",
       "     5                                           def singularValues(kernel,input_shape):\n",
       "     6        14      71233.0   5088.1     31.2      transforms = np.fft.fft2(kernel,input_shape,axes=(0,1))\n",
       "     7        14     157177.0  11226.9     68.8      return np.linalg.svd(transforms,compute_uv=False)"
      ]
     },
     "metadata": {},
     "output_type": "display_data"
    }
   ],
   "source": [
    "%lprun -f singularValues get_singular_values(trainer)"
   ]
  },
  {
   "cell_type": "code",
   "execution_count": 23,
   "metadata": {},
   "outputs": [
    {
     "ename": "AttributeError",
     "evalue": "module 'numpy' has no attribute 'im'",
     "output_type": "error",
     "traceback": [
      "\u001b[0;31m---------------------------------------------------------------------------\u001b[0m",
      "\u001b[0;31mAttributeError\u001b[0m                            Traceback (most recent call last)",
      "\u001b[0;32m<ipython-input-23-968f9296b7cf>\u001b[0m in \u001b[0;36m<module>\u001b[0;34m\u001b[0m\n\u001b[0;32m----> 1\u001b[0;31m \u001b[0mnp\u001b[0m\u001b[0;34m.\u001b[0m\u001b[0mim\u001b[0m\u001b[0;34m\u001b[0m\u001b[0;34m\u001b[0m\u001b[0m\n\u001b[0m",
      "\u001b[0;31mAttributeError\u001b[0m: module 'numpy' has no attribute 'im'"
     ]
    }
   ],
   "source": [
    "np.im"
   ]
  },
  {
   "cell_type": "code",
   "execution_count": null,
   "metadata": {},
   "outputs": [],
   "source": []
  }
 ],
 "metadata": {
  "kernelspec": {
   "display_name": "Python 3",
   "language": "python",
   "name": "python3"
  },
  "language_info": {
   "codemirror_mode": {
    "name": "ipython",
    "version": 3
   },
   "file_extension": ".py",
   "mimetype": "text/x-python",
   "name": "python",
   "nbconvert_exporter": "python",
   "pygments_lexer": "ipython3",
   "version": "3.6.7"
  }
 },
 "nbformat": 4,
 "nbformat_minor": 2
}
