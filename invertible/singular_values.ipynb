{
 "cells": [
  {
   "cell_type": "code",
   "execution_count": 41,
   "metadata": {},
   "outputs": [],
   "source": [
    "import sys,os\n",
    "import glob\n",
    "import torch,dill\n",
    "import torchvision.utils as vutils\n",
    "import matplotlib.pyplot as plt\n",
    "from iresnet import iResBlock\n",
    "from spectral_norm import SN\n",
    "import torch.nn as nn\n",
    "import torch.nn.functional as F\n",
    "import numpy as np"
   ]
  },
  {
   "cell_type": "code",
   "execution_count": 42,
   "metadata": {},
   "outputs": [
    {
     "name": "stdout",
     "output_type": "stream",
     "text": [
      "['/home/marc/tb-experiments/iresnet_inv_test/CIFAR10/iResnet/s0.5/trial0/checkpoints/c10.trainer']\n"
     ]
    }
   ],
   "source": [
    "paths = glob.glob(os.path.expanduser('~/tb-experiments/iresnet_inv_test/**/*.trainer'),recursive=True)\n",
    "print(paths)"
   ]
  },
  {
   "cell_type": "code",
   "execution_count": 43,
   "metadata": {},
   "outputs": [],
   "source": [
    "trainer = torch.load(paths[-1],pickle_module=dill)\n",
    "trainer.model.eval();"
   ]
  },
  {
   "cell_type": "code",
   "execution_count": 44,
   "metadata": {},
   "outputs": [],
   "source": [
    "def singularValues(kernel,input_shape):\n",
    "    transforms = np.fft.fft2(kernel,input_shape,axes=(0,1))\n",
    "    return np.linalg.svd(transforms,compute_uv=False)"
   ]
  },
  {
   "cell_type": "code",
   "execution_count": 76,
   "metadata": {},
   "outputs": [],
   "source": [
    "h = 32\n",
    "channels = 32\n",
    "s = []\n",
    "\n",
    "for module in trainer.model[1].modules():\n",
    "    if isinstance(module,SN):\n",
    "        s_ = module._s\n",
    "    if isinstance(module,nn.Conv2d):\n",
    "        if module.weight.shape[0]>channels:\n",
    "            h//=2\n",
    "            channels = module.weight.shape[0]\n",
    "        w = module.weight.cpu().data.clone()/torch.max(s_.cpu(),torch.tensor(1.))\n",
    "#         w2 = F.pad(w,(0,h-3,0,h-3))\n",
    "#         print(w2.shape)\n",
    "        #w2_np  =w2.data.numpy()\n",
    "        # 3 x 3 x c x c\n",
    "        s.append(np.random.choice(singularValues(w.data.permute((2,3,0,1)).numpy(),(h,h)).reshape(-1),300))"
   ]
  },
  {
   "cell_type": "code",
   "execution_count": 80,
   "metadata": {},
   "outputs": [
    {
     "data": {
      "text/plain": [
       "Text(0, 0.5, 'Eigenvalues')"
      ]
     },
     "execution_count": 80,
     "metadata": {},
     "output_type": "execute_result"
    },
    {
     "data": {
      "image/png": "[encoded data removed]",
      "text/plain": [
       "<Figure size 432x288 with 1 Axes>"
      ]
     },
     "metadata": {
      "needs_background": "light"
     },
     "output_type": "display_data"
    }
   ],
   "source": [
    "for i in range(len(s)):\n",
    "    singulars = s[i].reshape(-1)\n",
    "    plt.scatter(i*np.ones_like(singulars),singulars)\n",
    "plt.xlabel(\"Layer\")\n",
    "plt.ylabel(r\"Eigenvalues\")"
   ]
  },
  {
   "cell_type": "code",
   "execution_count": null,
   "metadata": {},
   "outputs": [],
   "source": []
  }
 ],
 "metadata": {
  "kernelspec": {
   "display_name": "Python 3",
   "language": "python",
   "name": "python3"
  },
  "language_info": {
   "codemirror_mode": {
    "name": "ipython",
    "version": 3
   },
   "file_extension": ".py",
   "mimetype": "text/x-python",
   "name": "python",
   "nbconvert_exporter": "python",
   "pygments_lexer": "ipython3",
   "version": "3.6.7"
  }
 },
 "nbformat": 4,
 "nbformat_minor": 2
}
