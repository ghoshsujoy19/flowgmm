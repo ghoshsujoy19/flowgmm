{
 "cells": [
  {
   "cell_type": "code",
   "execution_count": 1,
   "metadata": {},
   "outputs": [],
   "source": [
    "import sys,os\n",
    "import glob\n",
    "import torch,dill\n",
    "import torchvision.utils as vutils\n",
    "import matplotlib.pyplot as plt\n",
    "from iresnet import iResBlock\n",
    "from spectral_norm import SN\n",
    "import torch.nn as nn\n",
    "import torch.nn.functional as F\n",
    "import scipy as sp\n",
    "import numpy as np\n",
    "import seaborn as sb\n",
    "import pandas as pd\n",
    "%load_ext line_profiler\n",
    "torch.backends.cudnn.enabled = False"
   ]
  },
  {
   "cell_type": "code",
   "execution_count": 2,
   "metadata": {},
   "outputs": [
    {
     "name": "stdout",
     "output_type": "stream",
     "text": [
      "['/home/marc/tb-experiments/iresnet_WTW/CIFAR10/iResnet/s0.5/trial0/checkpoints/c100.trainer']\n"
     ]
    }
   ],
   "source": [
    "paths = glob.glob(os.path.expanduser('~/tb-experiments/iresnet_WTW/**/*.trainer'),recursive=True)\n",
    "print(paths)"
   ]
  },
  {
   "cell_type": "code",
   "execution_count": 3,
   "metadata": {},
   "outputs": [],
   "source": [
    "trainer = torch.load(paths[-1],pickle_module=dill)\n",
    "trainer.model.eval();"
   ]
  },
  {
   "cell_type": "code",
   "execution_count": 4,
   "metadata": {},
   "outputs": [],
   "source": [
    "def eigh(mat):\n",
    "    #print(mat.shape)\n",
    "    return sp.linalg.eigh(mat,eigvals_only=True)\n",
    "\n",
    "def singularValues(kernel,input_shape):\n",
    "    transforms = np.fft.fft2(kernel,input_shape,axes=(0,1))\n",
    "    return np.linalg.svd(transforms,compute_uv=False)\n",
    "def singularValues2(kernel,input_shape):\n",
    "    #print(kernel.shape)\n",
    "    transforms = M= np.fft.fft2(kernel,input_shape,axes=(0,1))\n",
    "    c = M.shape[-1]\n",
    "    MtM = (M@M).reshape(-1,c,c)\n",
    "    #print(MtM.shape)\n",
    "    #eigh = lambda mat: sp.linalg.eigh(mat,eigvals=(c-1,c-1),eigvals_only=True)\n",
    "    s = []\n",
    "    for N in MtM:\n",
    "        s.append(sp.linalg.eigh(N,eigvals=(c-1,c-1),eigvals_only=True))\n",
    "    eigs = np.array(s)\n",
    "    print(eigs.shape)\n",
    "    return eigs\n",
    "    #eigs = np.vectorize(eigh)(MtM)#np.apply_along_axis(eigh,0,MtM)\n",
    "    print(eigs.shape)\n",
    "#     A = np.real(transforms)\n",
    "#     B = np.imag(transforms)\n",
    "#     A_mB = np.concatenate((A,-B),axis=3).astype(np.float32)\n",
    "#     B_A = np.concatenate((B,A),axis=3).astype(np.float32)\n",
    "#     embedded_matrix = np.concatenate((A_mB,B_A),axis=2)\n",
    "#     h,w,c2,_ = embedded_matrix.shape\n",
    "#     M = torch.from_numpy(embedded_matrix.reshape(-1,c2,c2)).cuda()\n",
    "#     M_t = M.permute((0,2,1))\n",
    "#     MtM = torch.bmm(M_t,M)\n",
    "    #print(embedded_matrix.shape)\n",
    "    #return torch.svd(M,compute_uv=False).cpu().data.numpy()"
   ]
  },
  {
   "cell_type": "code",
   "execution_count": 5,
   "metadata": {},
   "outputs": [],
   "source": [
    "def get_singular_values(trainer):\n",
    "    h = 32\n",
    "    channels = 32\n",
    "    s = []\n",
    "    for module in trainer.model[1].modules():\n",
    "        if isinstance(module,SN):\n",
    "            s_ = module._s\n",
    "        if isinstance(module,nn.Conv2d):\n",
    "            if module.weight.shape[0]>channels:\n",
    "                h//=2\n",
    "                channels = module.weight.shape[0]\n",
    "            w = module.weight.cpu().data.clone()/torch.max(s_.cpu(),torch.tensor(1.))\n",
    "    #         w2 = F.pad(w,(0,h-3,0,h-3))\n",
    "    #         print(w2.shape)\n",
    "            #w2_np  =w2.data.numpy()\n",
    "            # 3 x 3 x c x c\n",
    "            s.append(singularValues(w.data.permute((2,3,0,1)).numpy(),(h//4,h//4)).reshape(-1))\n",
    "    return s"
   ]
  },
  {
   "cell_type": "code",
   "execution_count": null,
   "metadata": {},
   "outputs": [],
   "source": []
  },
  {
   "cell_type": "code",
   "execution_count": 43,
   "metadata": {},
   "outputs": [
    {
     "data": {
      "text/plain": [
       "<matplotlib.axes._subplots.AxesSubplot at 0x7ff0acfa4518>"
      ]
     },
     "execution_count": 43,
     "metadata": {},
     "output_type": "execute_result"
    },
    {
     "data": {
      "image/png": "[encoded data removed]",
      "text/plain": [
       "<Figure size 432x288 with 1 Axes>"
      ]
     },
     "metadata": {
      "needs_background": "light"
     },
     "output_type": "display_data"
    }
   ],
   "source": [
    "s = get_singular_values(trainer)\n",
    "all_sigmas = np.concatenate(s)\n",
    "all_layers = np.concatenate([len(s[i])*[i] for i in range(len(s))])\n",
    "df = pd.DataFrame({'Singular Values':all_sigmas,'Layer':all_layers})\n",
    "#df = pd.DataFrame.from_dict({f'Layer {i}':s[i] for i in range(len(s))}, orient='index')\n",
    "# for i in range(len(s)):\n",
    "#     singulars = np.random.choice(s[i],300)\n",
    "#     plt.scatter(i*np.ones_like(singulars),singulars)\n",
    "sb.violinplot(data=df,x='Layer',y='Singular Values',palette=\"Set3\", bw=1, cut=1, linewidth=1)\n",
    "# plt.xlabel(\"Layer\")\n",
    "# plt.ylabel(r\"Eigenvalues\")"
   ]
  },
  {
   "cell_type": "code",
   "execution_count": 45,
   "metadata": {},
   "outputs": [
    {
     "data": {
      "text/plain": [
       "<matplotlib.axes._subplots.AxesSubplot at 0x7ff0ad5fffd0>"
      ]
     },
     "execution_count": 45,
     "metadata": {},
     "output_type": "execute_result"
    },
    {
     "data": {
      "image/png": "[encoded data removed]",
      "text/plain": [
       "<Figure size 432x288 with 1 Axes>"
      ]
     },
     "metadata": {
      "needs_background": "light"
     },
     "output_type": "display_data"
    }
   ],
   "source": [
    "sb.distplot(all_sigmas)"
   ]
  },
  {
   "cell_type": "code",
   "execution_count": 46,
   "metadata": {},
   "outputs": [
    {
     "data": {
      "text/plain": [
       "<matplotlib.legend.Legend at 0x7ff0acdd0320>"
      ]
     },
     "execution_count": 46,
     "metadata": {},
     "output_type": "execute_result"
    },
    {
     "data": {
      "image/png": "[encoded data removed]",
      "text/plain": [
       "<Figure size 432x288 with 1 Axes>"
      ]
     },
     "metadata": {
      "needs_background": "light"
     },
     "output_type": "display_data"
    }
   ],
   "source": [
    "for i in range(len(s)):\n",
    "    sb.distplot(s[i],kde=False,label=i)\n",
    "plt.yscale('log')\n",
    "plt.legend()"
   ]
  },
  {
   "cell_type": "code",
   "execution_count": 8,
   "metadata": {},
   "outputs": [],
   "source": [
    "h = 32\n",
    "channels = 32\n",
    "s = []\n",
    "i = 0\n",
    "for module in trainer.model[1].modules():\n",
    "    if isinstance(module,SN):\n",
    "        s_ = module._s\n",
    "        i+=1\n",
    "        if i==3:break\n",
    "    if isinstance(module,nn.Conv2d):\n",
    "        if module.weight.shape[0]>channels:\n",
    "            h//=2\n",
    "            channels = module.weight.shape[0]\n",
    "        \n",
    "#         w2 = F.pad(w,(0,h-3,0,h-3))\n",
    "#         print(w2.shape)"
   ]
  },
  {
   "cell_type": "code",
   "execution_count": 9,
   "metadata": {},
   "outputs": [],
   "source": [
    "weight = module.module.weight.cpu().data.clone()#/torch.max(module._s.cpu(),torch.tensor(1.))"
   ]
  },
  {
   "cell_type": "code",
   "execution_count": 10,
   "metadata": {},
   "outputs": [],
   "source": [
    "weight = weight.data.permute((2,3,0,1)).numpy()"
   ]
  },
  {
   "cell_type": "code",
   "execution_count": 11,
   "metadata": {},
   "outputs": [
    {
     "data": {
      "text/plain": [
       "(3, 3, 130, 130)"
      ]
     },
     "execution_count": 11,
     "metadata": {},
     "output_type": "execute_result"
    }
   ],
   "source": [
    "np.pad(weight,((0,0),(0,0),(1,1),(1,1)),mode='constant').shape"
   ]
  },
  {
   "cell_type": "code",
   "execution_count": 12,
   "metadata": {},
   "outputs": [],
   "source": [
    "h,w = module.input_shape[:2]"
   ]
  },
  {
   "cell_type": "code",
   "execution_count": 13,
   "metadata": {},
   "outputs": [],
   "source": [
    "sigmas = singularValues(weight,(h+2,w+2)).reshape(-1)"
   ]
  },
  {
   "cell_type": "code",
   "execution_count": 14,
   "metadata": {},
   "outputs": [
    {
     "data": {
      "text/plain": [
       "<matplotlib.axes._subplots.AxesSubplot at 0x7ff0c018a7b8>"
      ]
     },
     "execution_count": 14,
     "metadata": {},
     "output_type": "execute_result"
    },
    {
     "data": {
      "image/png": "[encoded data removed]",
      "text/plain": [
       "<Figure size 432x288 with 1 Axes>"
      ]
     },
     "metadata": {
      "needs_background": "light"
     },
     "output_type": "display_data"
    }
   ],
   "source": [
    "sb.distplot(sigmas)"
   ]
  },
  {
   "cell_type": "code",
   "execution_count": 17,
   "metadata": {},
   "outputs": [
    {
     "data": {
      "text/plain": [
       "[<matplotlib.lines.Line2D at 0x7ff0add01550>]"
      ]
     },
     "execution_count": 17,
     "metadata": {},
     "output_type": "execute_result"
    },
    {
     "data": {
      "image/png": "[encoded data removed]",
      "text/plain": [
       "<Figure size 432x288 with 1 Axes>"
      ]
     },
     "metadata": {
      "needs_background": "light"
     },
     "output_type": "display_data"
    }
   ],
   "source": [
    "module.training=True\n",
    "test_in = torch.zeros_like(module._u)\n",
    "module._u = None\n",
    "sigma_est = []\n",
    "with torch.no_grad():\n",
    "    for k in range(100):\n",
    "        test_out = module(test_in)\n",
    "        sigma_est.append(module._s)\n",
    "plt.plot(sigma_est)"
   ]
  },
  {
   "cell_type": "code",
   "execution_count": null,
   "metadata": {},
   "outputs": [],
   "source": [
    "module.input_shape"
   ]
  },
  {
   "cell_type": "code",
   "execution_count": null,
   "metadata": {},
   "outputs": [],
   "source": [
    "%lprun -f singularValues get_singular_values(trainer)"
   ]
  },
  {
   "cell_type": "code",
   "execution_count": null,
   "metadata": {},
   "outputs": [],
   "source": []
  }
 ],
 "metadata": {
  "kernelspec": {
   "display_name": "Python 3",
   "language": "python",
   "name": "python3"
  },
  "language_info": {
   "codemirror_mode": {
    "name": "ipython",
    "version": 3
   },
   "file_extension": ".py",
   "mimetype": "text/x-python",
   "name": "python",
   "nbconvert_exporter": "python",
   "pygments_lexer": "ipython3",
   "version": "3.6.7"
  }
 },
 "nbformat": 4,
 "nbformat_minor": 2
}
