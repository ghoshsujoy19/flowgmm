{
 "cells": [
  {
   "cell_type": "code",
   "execution_count": 1,
   "metadata": {},
   "outputs": [],
   "source": [
    "import sys,os\n",
    "sys.path.append('/home/marc/flow_ssl/')\n",
    "import glob\n",
    "import torch,dill\n",
    "import torchvision.utils as vutils\n",
    "import matplotlib.pyplot as plt\n",
    "#from invertible.iresnet import iResBlock\n",
    "from flow_ssl.invertible import SN\n",
    "import torch.nn as nn\n",
    "import torch.nn.functional as F\n",
    "import scipy as sp\n",
    "import numpy as np\n",
    "import seaborn as sb\n",
    "import pandas as pd\n",
    "%load_ext line_profiler\n",
    "torch.backends.cudnn.enabled = False"
   ]
  },
  {
   "cell_type": "code",
   "execution_count": 24,
   "metadata": {},
   "outputs": [
    {
     "name": "stdout",
     "output_type": "stream",
     "text": [
      "['/home/marc/tb-experiments/multiscale_icnnv2_ld/CIFAR10/MultiScaleiCNNv2/trial0/checkpoints/c1.trainer']\n"
     ]
    }
   ],
   "source": [
    "paths = glob.glob(os.path.expanduser('~/tb-experiments/elu_flow_full_slrelu2/**/*.trainer'),recursive=True)#glob.glob(os.path.expanduser('~/tb-experiments/iresnet_WTW/**/*.trainer'),recursive=True)\n",
    "#paths = glob.glob(os.path.expanduser('~/tb-experiments/ielu100_iSLReLU_nodev/**/*.trainer'),recursive=True)\n",
    "paths = glob.glob(os.path.expanduser('~/tb-experiments/slrelu2_3d_NN/**/*.trainer'),recursive=True)\n",
    "paths = glob.glob(os.path.expanduser('~/tb-experiments/lrelu_test_logdet_invertible/CIFAR10/DegredationTester/**/*.trainer'),recursive=True)\n",
    "paths = glob.glob(os.path.expanduser('~/tb-experiments/multiscale_icnnv2_ld/**/*.trainer'),recursive=True)\n",
    "\n",
    "print(paths)"
   ]
  },
  {
   "cell_type": "code",
   "execution_count": 3,
   "metadata": {},
   "outputs": [],
   "source": [
    "import os\n",
    "import torch\n",
    "import torch.nn as nn\n",
    "from oil.datasetup.datasets import CIFAR10,CIFAR100\n",
    "from oil.model_trainers.classifier import Classifier,simpleClassifierTrial\n",
    "# from resnets import SplitODEResnet,ODEResnet,LongResnet,RNNBottle\n",
    "# from resnets import SmallResnet,RNNResnet\n",
    "from oil.tuning.study import Study, train_trial\n",
    "from oil.utils.utils import Named,Expression\n",
    "from flow_ssl.invertible import iConv2d,iSLReLU,SqueezeLayer,ClippediConv2d,iSequential,ActNorm\n",
    "from flow_ssl.invertible import SqueezeLayer,padChannels,keepChannels,NNdownsample,iAvgPool2d,Flatten,iLeakyReLU\n",
    "from flow_ssl.invertible import iLogits, iBN, MeanOnlyBN, passThrough, addZslot, Join, pad_circular_nd\n",
    "from flow_ssl.icnn.icnn import StandardNormal,FlowNetwork\n",
    "# from oil.tuning.configGenerator import uniform,logUniform\n",
    "\n",
    "# log_dir_base = os.path.expanduser('~/tb-experiments/degradation_test')\n",
    "# cfg_spec = {\n",
    "#     'dataset': CIFAR10,\n",
    "#     'network': [DegredationTester],\n",
    "#     'net_config': [ {},\n",
    "#                     {'circ':True},\n",
    "#                     {'circ':True,'slrelu':True},\n",
    "#                     {'circ':True,'slrelu':True,'ds':'checkerboard'},\n",
    "#                     {'circ':True,'slrelu':True,'ds':'nn'},\n",
    "#                     {'circ':True,'slrelu':True,'ds':'avg'},\n",
    "#                     ],#k=128\n",
    "#     'loader_config': {'amnt_dev':0,'lab_BS':50},\n",
    "#     'opt_config':{'lr':.1},\n",
    "#     'num_epochs':100, \n",
    "#     'trainer_config':{'log_dir':lambda cfg:log_dir_base+\\\n",
    "#         '/{}/{}'.format(cfg['dataset'],cfg['network'])}\n",
    "#     }\n",
    "#'log_dir':lambda cfg:f'{log_dir_base}/{cfg['dataset']}/{cfg['network']}/s{cfg['net_config']['sigma']}'\n",
    "#ODEResnet,RNNResnet,,SplitODEResnet,SmallResnet,BezierRNNSplit,BezierODE,BezierRNN\n",
    "\n",
    "class DegredationTester(FlowNetwork):\n",
    "    def __init__(self, num_classes=10,k=128,circ=False,slrelu=False,lrelu=None,clip=(.01,None),ds='max'):\n",
    "        super().__init__()\n",
    "        self.num_classes = num_classes\n",
    "        self.k = k\n",
    "        \n",
    "        conv = lambda c1,c2: ClippediConv2d(c1,c2,clip=clip,circ=circ)#iConv2d(c1,c2,circ=circ)#ClippediConv2d(c1,c2,clip=clip,circ=circ)#iConv2d(c1,c2,circ=circ)\n",
    "        BN = iBN#lambda c: nn.Sequential()#ActNorm##lambda c: nn.BatchNorm2d(c)#Expression(lambda x:x)#nn.BatchNorm2d(c)#Expression(lambda x:x)#nn.Sequential()#nn.BatchNorm2d#ActNorm#nn.BatchNorm2d\n",
    "        relu = iSLReLU if slrelu else nn.ReLU\n",
    "        if lrelu is not None: relu = lambda: iLeakyReLU(lrelu)\n",
    "        if ds=='max': downsample = lambda: nn.MaxPool2d(2)\n",
    "        elif ds=='checkerboard': downsample = lambda: SqueezeLayer(2)\n",
    "        elif ds=='nn': downsample = lambda: NNdownsample()\n",
    "        elif ds=='avg': downsample = lambda: iAvgPool2d()\n",
    "        else: assert False, \"unknown option\"\n",
    "        CBR = lambda c1,c2: iSequential(conv(c1,c2),BN(c2),relu())\n",
    "        self.body = iSequential(\n",
    "            padChannels(k-3),\n",
    "            addZslot(),\n",
    "            passThrough(*[CBR(k,k) for _ in range(3)]),\n",
    "            passThrough(downsample()),\n",
    "            keepChannels(2*k),\n",
    "            passThrough(*[CBR(2*k,2*k) for _ in range(3)]),\n",
    "            passThrough(downsample()),\n",
    "            keepChannels(2*k),\n",
    "            passThrough(*[CBR(2*k,2*k) for _ in range(3)]),\n",
    "            Join()\n",
    "        )\n",
    "        self.classifier_head = nn.Sequential(\n",
    "            Expression(lambda z:z[-1]),\n",
    "            Expression(lambda u:u.mean(-1).mean(-1)),\n",
    "            nn.BatchNorm1d(2*k),\n",
    "            nn.Linear(2*k,num_classes)\n",
    "        )\n",
    "        self.flow = iSequential(iLogits(),self.body,Flatten())\n",
    "        self.prior = StandardNormal(k*32*32)"
   ]
  },
  {
   "cell_type": "code",
   "execution_count": 25,
   "metadata": {},
   "outputs": [],
   "source": [
    "\n",
    "# import os\n",
    "# from oil.datasetup.datasets import CIFAR10,CIFAR100\n",
    "# from oil.model_trainers.classifier import Classifier,simpleClassifierTrial\n",
    "# # from resnets import SplitODEResnet,ODEResnet,LongResnet,RNNBottle\n",
    "# # from resnets import SmallResnet,RNNResnet\n",
    "# from invertible.iEluNetwork import iEluNet,iEluNetMultiScaleLarger,iEluNet3d\n",
    "# from oil.tuning.study import Study, train_trial\n",
    "\n",
    "# from torch.utils.data import DataLoader\n",
    "# from oil.utils.utils import LoaderTo, cosLr, recursively_update,islice\n",
    "# from oil.tuning.study import train_trial\n",
    "# from oil.datasetup.dataloaders import getLabLoader\n",
    "# from oil.datasetup.datasets import CIFAR10\n",
    "# from oil.architectures.img_classifiers import layer13s\n",
    "# from invertible.iresnet import iResnet,iResnetLarge\n",
    "# import collections\n",
    "# trainset = CIFAR10('~/datasets/{}/'.format(CIFAR10))\n",
    "# device = torch.device('cuda')\n",
    "# fullCNN = iEluNet3d(num_classes=trainset.num_classes,k=32).to(device)\n",
    "        \n",
    "# dataloaders = {}\n",
    "# dataloaders['train'], dataloaders['dev'] = getLabLoader(trainset,amnt_dev=0,lab_BS=64)\n",
    "# dataloaders = {k:LoaderTo(v,device) for k,v in dataloaders.items()}\n",
    "# trainer = Classifier(fullCNN,dataloaders)\n",
    "# trainer.model.eval();\n",
    "trainer = torch.load(paths[-1],pickle_module=dill)\n",
    "trainer.model.eval();"
   ]
  },
  {
   "cell_type": "code",
   "execution_count": 26,
   "metadata": {},
   "outputs": [],
   "source": [
    "#trainer = torch.load(paths[1],pickle_module=dill)\n",
    "trainer.model.eval();"
   ]
  },
  {
   "cell_type": "code",
   "execution_count": 20,
   "metadata": {},
   "outputs": [],
   "source": [
    "def eigh(mat):\n",
    "    #print(mat.shape)\n",
    "    return sp.linalg.eigh(mat,eigvals_only=True)\n",
    "\n",
    "def singularValues(kernel,input_shape):\n",
    "    transforms = np.fft.fft2(kernel,input_shape,axes=(0,1))\n",
    "    u,s,vh = np.linalg.svd(transforms)#,compute_uv=False)\n",
    "    return s\n",
    "def singularValues2(kernel,input_shape):\n",
    "    #print(kernel.shape)\n",
    "    transforms = M= np.fft.fft2(kernel,input_shape,axes=(0,1))\n",
    "    c = M.shape[-1]\n",
    "    MtM = (M@M).reshape(-1,c,c)\n",
    "    #print(MtM.shape)\n",
    "    #eigh = lambda mat: sp.linalg.eigh(mat,eigvals=(c-1,c-1),eigvals_only=True)\n",
    "    s = []\n",
    "    for N in MtM:\n",
    "        s.append(sp.linalg.eigh(N,eigvals=(c-1,c-1),eigvals_only=True))\n",
    "    eigs = np.array(s)\n",
    "    print(eigs.shape)\n",
    "    return eigs\n",
    "    #eigs = np.vectorize(eigh)(MtM)#np.apply_along_axis(eigh,0,MtM)\n",
    "    print(eigs.shape)\n",
    "#     A = np.real(transforms)\n",
    "#     B = np.imag(transforms)\n",
    "#     A_mB = np.concatenate((A,-B),axis=3).astype(np.float32)\n",
    "#     B_A = np.concatenate((B,A),axis=3).astype(np.float32)\n",
    "#     embedded_matrix = np.concatenate((A_mB,B_A),axis=2)\n",
    "#     h,w,c2,_ = embedded_matrix.shape\n",
    "#     M = torch.from_numpy(embedded_matrix.reshape(-1,c2,c2)).cuda()\n",
    "#     M_t = M.permute((0,2,1))\n",
    "#     MtM = torch.bmm(M_t,M)\n",
    "    #print(embedded_matrix.shape)\n",
    "    #return torch.svd(M,compute_uv=False).cpu().data.numpy()"
   ]
  },
  {
   "cell_type": "code",
   "execution_count": 21,
   "metadata": {},
   "outputs": [],
   "source": [
    "def get_singular_values(trainer):\n",
    "    h = 32\n",
    "    channels = 32\n",
    "    s = []\n",
    "    s_=torch.tensor(1.)\n",
    "    for module in trainer.model.modules():\n",
    "        if isinstance(module,SN):\n",
    "            s_ = module._s\n",
    "        if isinstance(module,nn.Conv2d):\n",
    "            if module.weight.shape[0]>channels:\n",
    "                h//=2\n",
    "                channels = module.weight.shape[0]\n",
    "            w = module.weight.cpu().data.clone()/torch.max(s_.cpu(),torch.tensor(1.))\n",
    "    #         w2 = F.pad(w,(0,h-3,0,h-3))\n",
    "    #         print(w2.shape)\n",
    "            #w2_np  =w2.data.numpy()\n",
    "            # 3 x 3 x c x c\n",
    "            size = (h,h)\n",
    "            s.append(singularValues(w.data.permute((2,3,0,1)).numpy(),size).reshape(-1))\n",
    "    return s"
   ]
  },
  {
   "cell_type": "code",
   "execution_count": null,
   "metadata": {},
   "outputs": [],
   "source": []
  },
  {
   "cell_type": "code",
   "execution_count": 27,
   "metadata": {},
   "outputs": [
    {
     "data": {
      "image/png": "[encoded data removed]",
      "text/plain": [
       "<Figure size 432x288 with 1 Axes>"
      ]
     },
     "metadata": {
      "needs_background": "light"
     },
     "output_type": "display_data"
    }
   ],
   "source": [
    "s = get_singular_values(trainer)\n",
    "all_sigmas = np.concatenate(s)\n",
    "all_layers = np.concatenate([len(s[i])*[i] for i in range(len(s))])\n",
    "df = pd.DataFrame({'Singular Values':all_sigmas,'Layer':all_layers})\n",
    "#df = pd.DataFrame.from_dict({f'Layer {i}':s[i] for i in range(len(s))}, orient='index')\n",
    "# for i in range(len(s)):\n",
    "#     singulars = np.random.choice(s[i],300)\n",
    "#     plt.scatter(i*np.ones_like(singulars),singulars)\n",
    "#sb.violinplot(data=df,x='Layer',y='Singular Values',palette=\"Set3\", bw=1, cut=1, linewidth=1,kde=False)\n",
    "sb.boxplot(data=df,x='Layer',y='Singular Values',palette=\"Set3\", linewidth=1)\n",
    "plt.yscale('log')\n",
    "# plt.xlabel(\"Layer\")\n",
    "# plt.ylabel(r\"Eigenvalues\")"
   ]
  },
  {
   "cell_type": "code",
   "execution_count": 23,
   "metadata": {},
   "outputs": [],
   "source": [
    "from flow_ssl.invertible import iBN\n",
    "for module in trainer.model.modules():\n",
    "    if isinstance(module,iBN):\n",
    "        print(module.weight.shape)\n",
    "        print(module.weight.abs().max()/module.weight.abs().min())"
   ]
  },
  {
   "cell_type": "code",
   "execution_count": null,
   "metadata": {},
   "outputs": [],
   "source": [
    "for mb in trainer.dataloaders['test']:\n",
    "    break\n",
    "inp =x=mb[0]\n",
    "with torch.no_grad():\n",
    "    output = trainer.model[1].body[:6](inp)\n",
    "    inp_rec = trainer.model[1].body[:6].inverse(output)\n",
    "((inp_rec[0] - inp[0]).norm()/(inp[0]).norm())"
   ]
  },
  {
   "cell_type": "code",
   "execution_count": null,
   "metadata": {},
   "outputs": [],
   "source": [
    "trainer.model[1].body[5]"
   ]
  },
  {
   "cell_type": "code",
   "execution_count": null,
   "metadata": {},
   "outputs": [],
   "source": [
    "sb.distplot(all_sigmas)\n",
    "plt.xscale('log')"
   ]
  },
  {
   "cell_type": "code",
   "execution_count": null,
   "metadata": {},
   "outputs": [],
   "source": [
    "for i in range(len(s)):\n",
    "    sb.distplot(s[i],kde=False,label=i)\n",
    "#plt.yscale('log')\n",
    "plt.xscale('log')\n",
    "plt.legend()"
   ]
  },
  {
   "cell_type": "code",
   "execution_count": null,
   "metadata": {},
   "outputs": [],
   "source": [
    "h = 32\n",
    "channels = 32\n",
    "s = []\n",
    "i = 0\n",
    "for module in trainer.model[1].modules():\n",
    "    if isinstance(module,SN):\n",
    "        s_ = module._s\n",
    "        i+=1\n",
    "        if i==3:break\n",
    "    if isinstance(module,nn.Conv2d):\n",
    "        if module.weight.shape[0]>channels:\n",
    "            h//=2\n",
    "            channels = module.weight.shape[0]\n",
    "        \n",
    "#         w2 = F.pad(w,(0,h-3,0,h-3))\n",
    "#         print(w2.shape)"
   ]
  },
  {
   "cell_type": "code",
   "execution_count": null,
   "metadata": {},
   "outputs": [],
   "source": [
    "weight = module.module.weight.cpu().data.clone()#/torch.max(module._s.cpu(),torch.tensor(1.))"
   ]
  },
  {
   "cell_type": "code",
   "execution_count": null,
   "metadata": {},
   "outputs": [],
   "source": [
    "weight = weight.data.permute((2,3,0,1)).numpy()"
   ]
  },
  {
   "cell_type": "code",
   "execution_count": null,
   "metadata": {},
   "outputs": [],
   "source": [
    "np.pad(weight,((0,0),(0,0),(1,1),(1,1)),mode='constant').shape"
   ]
  },
  {
   "cell_type": "code",
   "execution_count": null,
   "metadata": {},
   "outputs": [],
   "source": [
    "h,w = module.input_shape[:2]"
   ]
  },
  {
   "cell_type": "code",
   "execution_count": null,
   "metadata": {},
   "outputs": [],
   "source": [
    "sigmas = singularValues(weight,(h+2,w+2)).reshape(-1)"
   ]
  },
  {
   "cell_type": "code",
   "execution_count": null,
   "metadata": {},
   "outputs": [],
   "source": [
    "sb.distplot(sigmas)"
   ]
  },
  {
   "cell_type": "code",
   "execution_count": null,
   "metadata": {},
   "outputs": [],
   "source": [
    "module.training=True\n",
    "test_in = torch.zeros_like(module._u)\n",
    "module._u = None\n",
    "sigma_est = []\n",
    "with torch.no_grad():\n",
    "    for k in range(100):\n",
    "        test_out = module(test_in)\n",
    "        sigma_est.append(module._s)\n",
    "plt.plot(sigma_est)"
   ]
  },
  {
   "cell_type": "code",
   "execution_count": null,
   "metadata": {},
   "outputs": [],
   "source": [
    "module.input_shape"
   ]
  },
  {
   "cell_type": "code",
   "execution_count": null,
   "metadata": {},
   "outputs": [],
   "source": [
    "%lprun -f singularValues get_singular_values(trainer)"
   ]
  },
  {
   "cell_type": "code",
   "execution_count": null,
   "metadata": {},
   "outputs": [],
   "source": []
  }
 ],
 "metadata": {
  "kernelspec": {
   "display_name": "Python 3",
   "language": "python",
   "name": "python3"
  },
  "language_info": {
   "codemirror_mode": {
    "name": "ipython",
    "version": 3
   },
   "file_extension": ".py",
   "mimetype": "text/x-python",
   "name": "python",
   "nbconvert_exporter": "python",
   "pygments_lexer": "ipython3",
   "version": "3.6.7"
  }
 },
 "nbformat": 4,
 "nbformat_minor": 2
}
