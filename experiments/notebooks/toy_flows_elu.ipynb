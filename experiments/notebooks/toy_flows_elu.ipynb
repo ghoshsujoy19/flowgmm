{
 "cells": [
  {
   "cell_type": "code",
   "execution_count": 1,
   "metadata": {},
   "outputs": [
    {
     "ename": "ModuleNotFoundError",
     "evalue": "No module named 'datasets'",
     "output_type": "error",
     "traceback": [
      "\u001b[0;31m---------------------------------------------------------------------------\u001b[0m",
      "\u001b[0;31mModuleNotFoundError\u001b[0m                       Traceback (most recent call last)",
      "\u001b[0;32m<ipython-input-1-a4e90a79e0ad>\u001b[0m in \u001b[0;36m<module>\u001b[0;34m\u001b[0m\n\u001b[1;32m     15\u001b[0m \u001b[0mrcParams\u001b[0m\u001b[0;34m[\u001b[0m\u001b[0;34m'figure.dpi'\u001b[0m\u001b[0;34m]\u001b[0m \u001b[0;34m=\u001b[0m \u001b[0;36m300\u001b[0m\u001b[0;34m\u001b[0m\u001b[0;34m\u001b[0m\u001b[0m\n\u001b[1;32m     16\u001b[0m \u001b[0;34m\u001b[0m\u001b[0m\n\u001b[0;32m---> 17\u001b[0;31m \u001b[0;32mfrom\u001b[0m \u001b[0mdatasets\u001b[0m \u001b[0;32mimport\u001b[0m \u001b[0mmake_circles_ssl\u001b[0m\u001b[0;34m,\u001b[0m \u001b[0mmake_moons_ssl\u001b[0m\u001b[0;34m,\u001b[0m \u001b[0mmake_github_cat\u001b[0m\u001b[0;34m,\u001b[0m \u001b[0mmake_npz\u001b[0m\u001b[0;34m\u001b[0m\u001b[0;34m\u001b[0m\u001b[0m\n\u001b[0m\u001b[1;32m     18\u001b[0m \u001b[0;32mfrom\u001b[0m \u001b[0mdistributions\u001b[0m \u001b[0;32mimport\u001b[0m \u001b[0mSSLGaussMixture\u001b[0m\u001b[0;34m\u001b[0m\u001b[0;34m\u001b[0m\u001b[0m\n\u001b[1;32m     19\u001b[0m \u001b[0;34m\u001b[0m\u001b[0m\n",
      "\u001b[0;31mModuleNotFoundError\u001b[0m: No module named 'datasets'"
     ]
    }
   ],
   "source": [
    "import torch\n",
    "from torch import nn\n",
    "from torch.nn.parameter import Parameter\n",
    "from torch import distributions\n",
    "\n",
    "import numpy as np\n",
    "torch.manual_seed(0)\n",
    "np.random.seed(0)\n",
    "\n",
    "import matplotlib\n",
    "import matplotlib.pyplot as plt\n",
    "%matplotlib inline\n",
    "from pylab import rcParams\n",
    "rcParams['figure.figsize'] = 10, 8\n",
    "rcParams['figure.dpi'] = 300\n",
    "\n",
    "from datasets import make_circles_ssl, make_moons_ssl, make_github_cat, make_npz\n",
    "from distributions import SSLGaussMixture\n",
    "\n",
    "from itertools import chain\n",
    "from invertible.toy_flow import iToy\n",
    "%load_ext autoreload\n",
    "%autoreload 2"
   ]
  },
  {
   "cell_type": "code",
   "execution_count": null,
   "metadata": {},
   "outputs": [],
   "source": [
    "def grid_image(mapping, xx, yy, extradim=False, extra_noise=0):\n",
    "    lines = np.hstack([xx.reshape([-1, 1]), yy.reshape([-1, 1])])\n",
    "    if extra_noise:\n",
    "        lines = np.hstack([lines, np.random.rand(len(lines), extra_noise)])\n",
    "    if extradim:\n",
    "        lines = lines[:, None, :]\n",
    "    lines = torch.from_numpy(lines).float()\n",
    "    print(lines.shape)\n",
    "    img_lines = mapping(lines).detach().numpy()\n",
    "    \n",
    "    if extradim:\n",
    "        img_xx, img_yy = img_lines[:, 0, 0], img_lines[:, 0, 1]\n",
    "    else:\n",
    "        img_xx, img_yy = img_lines[:, 0], img_lines[:, 1]\n",
    "    img_xx = img_xx.reshape(xx.shape)\n",
    "    img_yy = img_yy.reshape(yy.shape)\n",
    "    return img_xx, img_yy"
   ]
  },
  {
   "cell_type": "code",
   "execution_count": null,
   "metadata": {},
   "outputs": [],
   "source": [
    "data, labels = make_github_cat(\"github.png\")\n",
    "#data, labels = make_moons_ssl()\n",
    "#data, labels = make_npz(\"8gauss.npz\")\n",
    "bs= 50\n",
    "inner_dim = 2*bs\n",
    "flow = iToy(2*bs,inner_dim)\n",
    "\n",
    "# r=2.5\n",
    "# means = torch.tensor([[-r, -r, -r], [r, r, r]])\n",
    "# prior = SSLGaussMixture(means=means)\n",
    "\n",
    "# flow.prior_nll = lambda x: -prior.log_prob(x)"
   ]
  },
  {
   "cell_type": "code",
   "execution_count": null,
   "metadata": {},
   "outputs": [],
   "source": [
    "lr_init = 3e-3\n",
    "epochs = 8000\n",
    "batch_size = bs\n",
    "n_ul = np.sum(labels == -1)\n",
    "n_l = np.shape(labels)[0] - n_ul\n",
    "label_weight = 1.\n",
    "print_freq = 500\n",
    "\n",
    "optimizer = torch.optim.Adam([p for p in flow.parameters() if p.requires_grad==True], lr=lr_init)\n",
    "for t in range(epochs):    \n",
    "    \n",
    "    batch_idx = np.random.choice(n_l + n_ul, size=batch_size)\n",
    "    batch_x, batch_y = data[batch_idx], labels[batch_idx]\n",
    "    batch_x, batch_y = torch.from_numpy(batch_x).float(), torch.from_numpy(batch_y).float()\n",
    "    \n",
    "    loss = flow.nll(batch_x.reshape(1,-1)).mean()\n",
    "    \n",
    "    optimizer.zero_grad()\n",
    "    loss.backward()\n",
    "    optimizer.step()\n",
    "    \n",
    "    if t % print_freq == 0:\n",
    "        print('iter %s:' % t, 'loss = %.3f' % loss)\n",
    "        \n",
    "    if t == int(epochs * 0.5) or t == int(epochs * 0.8):\n",
    "        for p in optimizer.param_groups:\n",
    "            p[\"lr\"] /= 10"
   ]
  },
  {
   "cell_type": "code",
   "execution_count": null,
   "metadata": {},
   "outputs": [],
   "source": [
    "plt.figure(figsize=(12, 10))\n",
    "\n",
    "\n",
    "grid_points = 50\n",
    "grid_freq = 5\n",
    "z_lims = [-4, 4]\n",
    "x_lims = [-4, 4]\n",
    "line_z = np.linspace(*z_lims, grid_points)\n",
    "line_x = np.linspace(*x_lims, grid_points)\n",
    "xx_z, yy_z = np.meshgrid(line_z, line_z)\n",
    "xx_x, yy_x = np.meshgrid(line_x, line_x)\n",
    "\n",
    "\n",
    "inv = flow(torch.from_numpy(data).reshape(-1,2*bs)).detach().reshape(-1,2).numpy()\n",
    "\n",
    "\n",
    "plt.subplot(221)\n",
    "plt.scatter(inv[:, 0], inv[:, 1], c=data[:, 0], cmap=plt.cm.rainbow)\n",
    "# plt.scatter(inv[labels==0][:, 0], inv[labels==0][:, 1], marker=\"^\", s=100, edgecolor=\"k\")\n",
    "# plt.scatter(inv[labels==1][:, 0], inv[labels==1][:, 1], marker=\"^\", s=100, edgecolor=\"k\")\n",
    "# f_xx, f_yy = grid_image(lambda x: flow(x)[:,:2], xx_x, yy_x)\n",
    "# plt.plot(f_xx[:, ::grid_freq], f_yy[:, ::grid_freq], '-r', alpha=0.35)\n",
    "# f_xx, f_yy = grid_image(lambda x: flow(x)[:,:2], yy_x, xx_x)\n",
    "# plt.plot(f_xx[:, ::grid_freq], f_yy[:, ::grid_freq], '-b', alpha=0.35)\n",
    "plt.title(r'$z = f(X)$')\n",
    "plt.xlim(z_lims)\n",
    "plt.ylim(z_lims)\n",
    "\n",
    "# z = inv + np.random.randn(*inv.shape) * np.array([1, 1, 0]) * 0.5 \n",
    "# z = torch.randn(data.shape[0],inner_dim).data.numpy() * 1.\n",
    "z = torch.randn(1000,2).data.numpy() * 1.\n",
    "#z = prior.sample([50,]).numpy()\n",
    "plt.subplot(222)\n",
    "plt.scatter(z[:, 0], z[:, 1], c=z[:, 0], cmap=plt.cm.rainbow)\n",
    "plt.plot(xx_z[:, ::grid_freq], yy_z[:, ::grid_freq], '-r', alpha=0.35)\n",
    "plt.plot(yy_z[:, ::grid_freq], xx_z[:, ::grid_freq], '-b', alpha=0.35)\n",
    "plt.title(r'$z \\sim p(z)$')\n",
    "plt.xlim(z_lims)\n",
    "plt.ylim(z_lims)\n",
    "x = data#flow.sample(1000).data.numpy()\n",
    "plt.subplot(223)\n",
    "plt.scatter(x[:, 0], x[:, 1], c=x[:, 0], cmap=plt.cm.rainbow)\n",
    "# plt.scatter(data[labels==0][:, 0], data[labels==0][:, 1], marker=\"^\", s=100, edgecolor=\"k\")\n",
    "# plt.scatter(data[labels==1][:, 0], data[labels==1][:, 1], marker=\"^\", s=100, edgecolor=\"k\")\n",
    "plt.plot(xx_x[:, ::grid_freq], yy_x[:, ::grid_freq], '-r', alpha=0.35)\n",
    "plt.plot(yy_x[:, ::grid_freq], xx_x[:, ::grid_freq], '-b', alpha=0.35)\n",
    "plt.title(r'$X \\sim p(X)$')\n",
    "plt.xlim(x_lims)\n",
    "plt.ylim(x_lims)\n",
    "\n",
    "plt.subplot(224)\n",
    "x = flow.inverse(torch.from_numpy(z).float().reshape(-1,2*bs)).detach().reshape(-1,2).numpy()\n",
    "# g_xx, g_yy = grid_image(flow.inverse, xx_z, yy_z, extra_noise=inner_dim-2)\n",
    "# plt.plot(g_xx[:, ::grid_freq], g_yy[:, ::grid_freq], '-r', alpha=0.35)\n",
    "# g_xx, g_yy = grid_image(flow.inverse, yy_z, xx_z, extra_noise=inner_dim-2)\n",
    "# plt.plot(g_xx[:, ::grid_freq], g_yy[:, ::grid_freq], '-b', alpha=0.35)\n",
    "plt.scatter(x[:, 0], x[:, 1], alpha=0.2)# c=z[:, 0], cmap=plt.cm.rainbow)\n",
    "plt.scatter(data[labels==0][:, 0], data[labels==0][:, 1], marker=\"^\", s=100, edgecolor=\"k\")\n",
    "plt.scatter(data[labels==1][:, 0], data[labels==1][:, 1], marker=\"^\", s=100, edgecolor=\"k\")\n",
    "plt.title(r'$X = g(z)$')\n",
    "#plt.xlim(x_lims)\n",
    "#plt.ylim(x_lims)"
   ]
  },
  {
   "cell_type": "code",
   "execution_count": null,
   "metadata": {},
   "outputs": [],
   "source": [
    "np.linalg.norm(flow.inverse(flow(torch.from_numpy(data[:10]))).data.numpy()-data[:10])/np.linalg.norm(data[:10])"
   ]
  },
  {
   "cell_type": "code",
   "execution_count": null,
   "metadata": {},
   "outputs": [],
   "source": [
    "plt.scatter(data[:,0],data[:,1])"
   ]
  },
  {
   "cell_type": "code",
   "execution_count": null,
   "metadata": {},
   "outputs": [],
   "source": [
    "flow(torch.from_numpy(data[:3]))"
   ]
  },
  {
   "cell_type": "code",
   "execution_count": null,
   "metadata": {},
   "outputs": [],
   "source": [
    "flow.logdet()"
   ]
  },
  {
   "cell_type": "code",
   "execution_count": null,
   "metadata": {},
   "outputs": [],
   "source": [
    "eps = 1e-3\n",
    "directions = np.array([[1,0],[0,1]])\n",
    "j0 = (flow(torch.from_numpy(data[:3]+eps*directions[0]).float()) - flow(torch.from_numpy(data[:3]).float()))/eps\n",
    "j1 = (flow(torch.from_numpy(data[:3]+eps*directions[1]).float()) - flow(torch.from_numpy(data[:3]).float()))/eps"
   ]
  },
  {
   "cell_type": "code",
   "execution_count": null,
   "metadata": {},
   "outputs": [],
   "source": [
    "j0"
   ]
  },
  {
   "cell_type": "code",
   "execution_count": null,
   "metadata": {},
   "outputs": [],
   "source": [
    "J = torch.cat((j0[:,:,None],j1[:,:,None]),dim=2)"
   ]
  },
  {
   "cell_type": "code",
   "execution_count": null,
   "metadata": {},
   "outputs": [],
   "source": [
    "torch.log(J[:,0,0]*J[:,1,1] - J[:,0,1]*J[:,1,0])"
   ]
  },
  {
   "cell_type": "code",
   "execution_count": null,
   "metadata": {},
   "outputs": [],
   "source": []
  }
 ],
 "metadata": {
  "kernelspec": {
   "display_name": "Python 3",
   "language": "python",
   "name": "python3"
  },
  "language_info": {
   "codemirror_mode": {
    "name": "ipython",
    "version": 3
   },
   "file_extension": ".py",
   "mimetype": "text/x-python",
   "name": "python",
   "nbconvert_exporter": "python",
   "pygments_lexer": "ipython3",
   "version": "3.6.7"
  }
 },
 "nbformat": 4,
 "nbformat_minor": 2
}
