{
 "cells": [
  {
   "cell_type": "code",
   "execution_count": 1,
   "metadata": {},
   "outputs": [],
   "source": [
    "import matplotlib.pyplot as plt\n",
    "%matplotlib inline"
   ]
  },
  {
   "cell_type": "code",
   "execution_count": 2,
   "metadata": {},
   "outputs": [],
   "source": [
    "import torch, torchvision\n",
    "import numpy as np"
   ]
  },
  {
   "cell_type": "code",
   "execution_count": 3,
   "metadata": {},
   "outputs": [],
   "source": [
    "import sys\n",
    "sys.path.append('../../')"
   ]
  },
  {
   "cell_type": "code",
   "execution_count": 4,
   "metadata": {},
   "outputs": [],
   "source": [
    "from flow_ssl.invertible import iLogits"
   ]
  },
  {
   "cell_type": "code",
   "execution_count": 5,
   "metadata": {},
   "outputs": [],
   "source": [
    "def bits_per_dim(x, nll):\n",
    "    \"\"\"Get the bits per dimension implied by using model with `loss`\n",
    "    for compressing `x`, assuming each entry can take on `k` discrete values.\n",
    "    Args:\n",
    "        x (torch.Tensor): Input to the model. Just used for dimensions.\n",
    "        nll (torch.Tensor): Scalar negative log-likelihood loss tensor.\n",
    "    Returns:\n",
    "        bpd (torch.Tensor): Bits per dimension implied if compressing `x`.\n",
    "    \"\"\"\n",
    "    dim = np.prod(x.size()[1:])\n",
    "    bpd = nll / (np.log(2) * dim)\n",
    "\n",
    "    return bpd"
   ]
  },
  {
   "cell_type": "code",
   "execution_count": 6,
   "metadata": {},
   "outputs": [],
   "source": [
    "train_dset = torchvision.datasets.CIFAR10('/home/wesley/Documents/datasets/cifar10', train = True, \n",
    "                                          transform = torchvision.transforms.ToTensor)"
   ]
  },
  {
   "cell_type": "code",
   "execution_count": 7,
   "metadata": {},
   "outputs": [],
   "source": [
    "normalized_train = torch.tensor(train_dset.data / 256.).permute(0, -1, -3, -2)\n",
    "normalized_train = normalized_train.float()"
   ]
  },
  {
   "cell_type": "code",
   "execution_count": 8,
   "metadata": {},
   "outputs": [],
   "source": [
    "logit_layer = iLogits()"
   ]
  },
  {
   "cell_type": "code",
   "execution_count": 9,
   "metadata": {},
   "outputs": [],
   "source": [
    "train_logits = logit_layer(normalized_train)\n",
    "train_logits_2d = train_logits.view(len(train_dset), np.prod(train_logits.size()[1:]))"
   ]
  },
  {
   "cell_type": "code",
   "execution_count": 10,
   "metadata": {},
   "outputs": [],
   "source": [
    "logdet = logit_layer.logdet()"
   ]
  },
  {
   "cell_type": "code",
   "execution_count": 11,
   "metadata": {},
   "outputs": [
    {
     "data": {
      "text/plain": [
       "(array([1.2027e+04, 2.0776e+04, 1.0405e+04, 3.8920e+03, 1.5790e+03,\n",
       "        7.5700e+02, 3.7100e+02, 1.4800e+02, 3.9000e+01, 6.0000e+00]),\n",
       " array([3951.8892, 4414.73  , 4877.571 , 5340.4116, 5803.2524, 6266.093 ,\n",
       "        6728.9336, 7191.7744, 7654.615 , 8117.456 , 8580.297 ],\n",
       "       dtype=float32),\n",
       " <a list of 10 Patch objects>)"
      ]
     },
     "execution_count": 11,
     "metadata": {},
     "output_type": "execute_result"
    },
    {
     "data": {
      "image/png": "[encoded data removed]",
      "text/plain": [
       "<Figure size 432x288 with 1 Axes>"
      ]
     },
     "metadata": {
      "needs_background": "light"
     },
     "output_type": "display_data"
    }
   ],
   "source": [
    "plt.hist(logdet)"
   ]
  },
  {
   "cell_type": "code",
   "execution_count": 12,
   "metadata": {},
   "outputs": [],
   "source": [
    "cov_mat = torch.FloatTensor(np.cov(train_logits_2d.t().numpy()))\n",
    "mean_vec = torch.mean(train_logits_2d,0)"
   ]
  },
  {
   "cell_type": "code",
   "execution_count": 13,
   "metadata": {},
   "outputs": [],
   "source": [
    "# note to self: may want to try https://scikit-learn.org/stable/modules/covariance.html#shrunk-covariance\n"
   ]
  },
  {
   "cell_type": "code",
   "execution_count": 14,
   "metadata": {},
   "outputs": [],
   "source": [
    "edist = torch.distributions.MultivariateNormal(mean_vec, cov_mat)"
   ]
  },
  {
   "cell_type": "code",
   "execution_count": 15,
   "metadata": {},
   "outputs": [],
   "source": [
    "# compute p(x)\n",
    "ll = edist.log_prob(train_logits_2d)"
   ]
  },
  {
   "cell_type": "code",
   "execution_count": 16,
   "metadata": {},
   "outputs": [
    {
     "data": {
      "text/plain": [
       "(array([3.000e+00, 8.000e+00, 2.800e+01, 5.200e+01, 1.270e+02, 3.020e+02,\n",
       "        9.660e+02, 3.234e+03, 1.363e+04, 3.165e+04]),\n",
       " array([-10822.991  ,  -9339.62   ,  -7856.2485 ,  -6372.877  ,\n",
       "         -4889.506  ,  -3406.1345 ,  -1922.7632 ,   -439.39185,\n",
       "          1043.9795 ,   2527.3508 ,   4010.7222 ], dtype=float32),\n",
       " <a list of 10 Patch objects>)"
      ]
     },
     "execution_count": 16,
     "metadata": {},
     "output_type": "execute_result"
    },
    {
     "data": {
      "image/png": "[encoded data removed]",
      "text/plain": [
       "<Figure size 432x288 with 1 Axes>"
      ]
     },
     "metadata": {
      "needs_background": "light"
     },
     "output_type": "display_data"
    }
   ],
   "source": [
    "plt.hist(ll)"
   ]
  },
  {
   "cell_type": "code",
   "execution_count": 17,
   "metadata": {},
   "outputs": [
    {
     "data": {
      "text/plain": [
       "tensor(-53586.7539)"
      ]
     },
     "execution_count": 17,
     "metadata": {},
     "output_type": "execute_result"
    }
   ],
   "source": [
    "#p(x) - |J(x,z)|\n",
    "bits_per_dim(normalized_train, torch.sum(ll - logdet))"
   ]
  },
  {
   "cell_type": "code",
   "execution_count": 18,
   "metadata": {},
   "outputs": [],
   "source": [
    "# as expected this is about the dumbest thing you could try :)"
   ]
  },
  {
   "cell_type": "code",
   "execution_count": null,
   "metadata": {},
   "outputs": [],
   "source": []
  }
 ],
 "metadata": {
  "kernelspec": {
   "display_name": "Python 3",
   "language": "python",
   "name": "python3"
  },
  "language_info": {
   "codemirror_mode": {
    "name": "ipython",
    "version": 3
   },
   "file_extension": ".py",
   "mimetype": "text/x-python",
   "name": "python",
   "nbconvert_exporter": "python",
   "pygments_lexer": "ipython3",
   "version": "3.7.3"
  }
 },
 "nbformat": 4,
 "nbformat_minor": 2
}
