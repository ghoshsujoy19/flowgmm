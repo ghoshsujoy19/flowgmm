{
 "cells": [
  {
   "cell_type": "code",
   "execution_count": null,
   "metadata": {},
   "outputs": [],
   "source": [
    "import sys\n",
    "#sys.path.append('/home/marc_f/anaconda3/envs/default/bin/python/')"
   ]
  },
  {
   "cell_type": "code",
   "execution_count": null,
   "metadata": {},
   "outputs": [],
   "source": [
    "sys.executable"
   ]
  },
  {
   "cell_type": "code",
   "execution_count": 1,
   "metadata": {},
   "outputs": [],
   "source": [
    "import glob\n",
    "import torch\n",
    "import os,sys\n",
    "import torch.nn as nn\n",
    "import numpy as np\n",
    "import matplotlib.pyplot as plt\n",
    "#import seaborn as sb\n",
    "import pandas as pd\n",
    "import dill\n",
    "import flow_ssl\n",
    "from sklearn.model_selection import train_test_split\n",
    "from flow_ssl.data import GAS, HEPMASS, MINIBOONE\n",
    "from flow_ssl.data.nlp_datasets import AG_News,YAHOO\n",
    "from torch.utils.data import DataLoader\n",
    "from oil.datasetup.dataloaders import getLabLoader,classBalancedSampleIndices\n",
    "from oil.utils.utils import FixedNumpySeed"
   ]
  },
  {
   "cell_type": "code",
   "execution_count": 304,
   "metadata": {},
   "outputs": [],
   "source": [
    "H = HEPMASS(train=True)\n",
    "M = MINIBOONE(train=True)\n",
    "A = AG_News(train=True)\n",
    "At = AG_News(train=False)\n",
    "Ya = YAHOO(train=True)"
   ]
  },
  {
   "cell_type": "code",
   "execution_count": 3,
   "metadata": {},
   "outputs": [],
   "source": [
    "def oh(a, num_classes):\n",
    "    return np.squeeze(np.eye(num_classes)[a.reshape(-1)])"
   ]
  },
  {
   "cell_type": "code",
   "execution_count": 4,
   "metadata": {},
   "outputs": [],
   "source": [
    "# train_data = np.load('ag_news_train.npz')\n",
    "# x_train = train_data['encodings']\n",
    "# y_train = train_data['labels']\n",
    "# test_data = np.load('ag_news_test.npz')\n",
    "# x_test = test_data['encodings']\n",
    "# y_test = test_data['labels']"
   ]
  },
  {
   "cell_type": "code",
   "execution_count": 198,
   "metadata": {},
   "outputs": [],
   "source": [
    "test_size = 3000#3000\n",
    "\n",
    "unlab_size=8000#5000"
   ]
  },
  {
   "cell_type": "code",
   "execution_count": 292,
   "metadata": {},
   "outputs": [],
   "source": [
    "X_train = H.trn\n",
    "X_test = H.tst\n",
    "y_train = H.y_trn.astype(int)\n",
    "y_test = H.y_tst.astype(int)\n",
    "test_indices = np.random.choice(y_test.shape[0],test_size,replace=False)\n",
    "X_test_small = X_test[test_indices]\n",
    "y_test_small = y_test[test_indices]#\n",
    "lab_size = 20\n",
    "Ds = H"
   ]
  },
  {
   "cell_type": "code",
   "execution_count": 273,
   "metadata": {},
   "outputs": [],
   "source": [
    "X_train = M.X_train\n",
    "X_test = M.X_test\n",
    "y_train = M.y_train.astype(int)\n",
    "y_test = M.y_test.astype(int)\n",
    "test_indices = np.random.choice(y_test.shape[0],test_size,replace=False)\n",
    "X_test_small = X_test[test_indices]\n",
    "y_test_small = y_test[test_indices]#\n",
    "lab_size = 20\n",
    "Ds = M"
   ]
  },
  {
   "cell_type": "code",
   "execution_count": 265,
   "metadata": {},
   "outputs": [],
   "source": [
    "\n",
    "X_train = A.train_data.numpy()\n",
    "m,s = X_train.mean(0),X_train.std(0)\n",
    "X_test = At.test_data.numpy()#[:test_size]\n",
    "y_train = A.train_labels.numpy().astype(int)\n",
    "y_test = At.test_labels.numpy().astype(int)\n",
    "test_indices = np.random.choice(y_test.shape[0],test_size,replace=False)\n",
    "X_train = (X_train-m)/s\n",
    "X_test = (X_test-m)/s\n",
    "X_test_small = X_test[test_indices]\n",
    "y_test_small = y_test[test_indices]#\n",
    "\n",
    "lab_size = 200\n",
    "Ds = A"
   ]
  },
  {
   "cell_type": "code",
   "execution_count": 305,
   "metadata": {},
   "outputs": [],
   "source": [
    "X_train = Ya.X_train\n",
    "m,s = X_train.mean(0),X_train.std(0)\n",
    "X_test = Ya.X_test\n",
    "y_train = Ya.y_train.astype(int)\n",
    "y_test = Ya.y_test.astype(int)\n",
    "test_indices = np.random.choice(y_test.shape[0],test_size,replace=False)\n",
    "X_train = (X_train-m)/s\n",
    "X_test = (X_test-m)/s\n",
    "X_test_small = X_test[test_indices]\n",
    "y_test_small = y_test[test_indices]#\n",
    "\n",
    "lab_size = 800\n",
    "Ds = Ya"
   ]
  },
  {
   "cell_type": "code",
   "execution_count": 306,
   "metadata": {},
   "outputs": [
    {
     "name": "stdout",
     "output_type": "stream",
     "text": [
      "Creating Train, Dev split         with 800 Train and 5000 Dev\n",
      "Labeled indices hash 19929007\n"
     ]
    }
   ],
   "source": [
    "with FixedNumpySeed(0):\n",
    "    labIndices, devIndices = classBalancedSampleIndices(Ds, lab_size+5000, 5000)\n",
    "    unlab_indices = np.random.choice(y_train.shape[0],unlab_size,replace=False)"
   ]
  },
  {
   "cell_type": "code",
   "execution_count": 307,
   "metadata": {},
   "outputs": [],
   "source": [
    "X_lab, X_dev = X_train[labIndices], X_train[devIndices]\n",
    "y_lab, y_dev = y_train[labIndices], y_train[devIndices]"
   ]
  },
  {
   "cell_type": "code",
   "execution_count": 308,
   "metadata": {},
   "outputs": [],
   "source": [
    "\n",
    "X_unlab = X_train[unlab_indices]\n",
    "y_unlab = y_train[unlab_indices]"
   ]
  },
  {
   "cell_type": "code",
   "execution_count": 309,
   "metadata": {},
   "outputs": [],
   "source": [
    "#X_unlab, X_lab, y_unlab, y_lab = train_test_split(X_train, y_train, test_size=lab_size,stratify=y_train)"
   ]
  },
  {
   "cell_type": "code",
   "execution_count": 310,
   "metadata": {},
   "outputs": [],
   "source": [
    "#_, X_unlab, _, y_unlab = train_test_split(X_unlab, y_unlab, test_size=unlab_size,stratify=y_unlab)"
   ]
  },
  {
   "cell_type": "code",
   "execution_count": 311,
   "metadata": {},
   "outputs": [],
   "source": [
    "X = np.concatenate((X_lab,X_unlab,X_test_small))\n",
    "# l = np.arange(200)\n",
    "# u = np.arange(200,1200)\n",
    "l = np.arange(X.shape[0])<lab_size\n",
    "u = (~l)&(np.arange(X.shape[0])<lab_size+X_unlab.shape[0])\n",
    "t = np.arange(X.shape[0])>=lab_size+X_unlab.shape[0]\n"
   ]
  },
  {
   "cell_type": "code",
   "execution_count": null,
   "metadata": {},
   "outputs": [],
   "source": []
  },
  {
   "cell_type": "code",
   "execution_count": 312,
   "metadata": {},
   "outputs": [],
   "source": [
    "s=1/5\n",
    "#dists = np.sum((X[:,None,:]-X[None,:,:])**2,axis=-1)/s**2\n",
    "nx = np.linalg.norm(X,axis=1)\n",
    "dists = 1-(X@X.T)/(nx[:,None]*nx[None,:])\n",
    "W = np.exp(-dists*2)#-dists*100\n",
    "W -= np.diag(np.diag(W))\n",
    "#W += .00001*np.eye(X.shape[0])\n",
    "D = np.diag(np.sum(W,axis=-1))\n",
    "dm2 = np.sum(W,axis=-1)**-.5\n"
   ]
  },
  {
   "cell_type": "code",
   "execution_count": 313,
   "metadata": {},
   "outputs": [
    {
     "data": {
      "text/plain": [
       "0.24266666666666667"
      ]
     },
     "execution_count": 313,
     "metadata": {},
     "output_type": "execute_result"
    }
   ],
   "source": [
    "L =dm2[:,None]*(D-.5*W)*dm2[None,:]\n",
    "Y = np.zeros((X.shape[0],Ds.num_classes))\n",
    "Y[:len(y_lab)] = oh(y_lab,Ds.num_classes)\n",
    "Ys = np.linalg.solve(L,Y)\n",
    "(Ys[t].argmax(-1)==y_test_small).mean()"
   ]
  },
  {
   "cell_type": "code",
   "execution_count": 259,
   "metadata": {},
   "outputs": [],
   "source": [
    "#plt.hist(np.log(nx))\n",
    "#plt.xscale('log')"
   ]
  },
  {
   "cell_type": "code",
   "execution_count": 283,
   "metadata": {},
   "outputs": [],
   "source": [
    "fu = -np.linalg.solve(L[u|t][:,u|t],(L[u|t][:,l]@oh(y_lab,Ds.num_classes)))\n",
    "(fu[-X_test_small.shape[0]:].argmax(-1)==y_test_small).mean()"
   ]
  },
  {
   "cell_type": "code",
   "execution_count": 284,
   "metadata": {},
   "outputs": [],
   "source": []
  },
  {
   "cell_type": "code",
   "execution_count": 289,
   "metadata": {},
   "outputs": [
    {
     "data": {
      "text/plain": [
       "0.7823333333333333"
      ]
     },
     "execution_count": 289,
     "metadata": {},
     "output_type": "execute_result"
    }
   ],
   "source": []
  },
  {
   "cell_type": "code",
   "execution_count": 272,
   "metadata": {},
   "outputs": [
    {
     "name": "stderr",
     "output_type": "stream",
     "text": [
      "/home/marc_f/anaconda3/envs/default/lib/python3.6/site-packages/sklearn/linear_model/logistic.py:947: ConvergenceWarning: lbfgs failed to converge. Increase the number of iterations.\n",
      "  \"of iterations.\", ConvergenceWarning)\n"
     ]
    },
    {
     "data": {
      "text/plain": [
       "0.7888157894736842"
      ]
     },
     "execution_count": 272,
     "metadata": {},
     "output_type": "execute_result"
    }
   ],
   "source": [
    "from sklearn.linear_model import LogisticRegression\n",
    "clf = LogisticRegression(random_state=0, solver='lbfgs',multi_class='multinomial').fit(X_lab, y_lab)\n",
    "clf.score(X_test, y_test)"
   ]
  },
  {
   "cell_type": "code",
   "execution_count": 261,
   "metadata": {},
   "outputs": [
    {
     "name": "stderr",
     "output_type": "stream",
     "text": [
      "/home/marc_f/anaconda3/envs/default/lib/python3.6/site-packages/sklearn/semi_supervised/label_propagation.py:277: RuntimeWarning: divide by zero encountered in true_divide\n",
      "  self.label_distributions_ /= normalizer\n",
      "/home/marc_f/anaconda3/envs/default/lib/python3.6/site-packages/sklearn/semi_supervised/label_propagation.py:277: RuntimeWarning: invalid value encountered in true_divide\n",
      "  self.label_distributions_ /= normalizer\n",
      "/home/marc_f/anaconda3/envs/default/lib/python3.6/site-packages/sklearn/semi_supervised/label_propagation.py:288: ConvergenceWarning: max_iter=1000 was reached without convergence.\n",
      "  category=ConvergenceWarning\n"
     ]
    },
    {
     "data": {
      "text/plain": [
       "LabelPropagation(gamma=20, kernel='rbf', max_iter=1000, n_jobs=None,\n",
       "                 n_neighbors=7, tol=0.001)"
      ]
     },
     "execution_count": 261,
     "metadata": {},
     "output_type": "execute_result"
    }
   ],
   "source": [
    "from sklearn.semi_supervised import LabelPropagation\n",
    "label_prop_model = LabelPropagation()\n",
    "partially_labels = np.concatenate((y_lab,y_unlab))\n",
    "partially_labels[len(y_lab):] =-1\n",
    "label_prop_model.fit(np.concatenate((X_lab,X_unlab)), partially_labels)"
   ]
  },
  {
   "cell_type": "code",
   "execution_count": 262,
   "metadata": {},
   "outputs": [
    {
     "data": {
      "text/plain": [
       "0.1"
      ]
     },
     "execution_count": 262,
     "metadata": {},
     "output_type": "execute_result"
    }
   ],
   "source": [
    "label_prop_model.score(X_test,y_test)"
   ]
  },
  {
   "cell_type": "code",
   "execution_count": 264,
   "metadata": {},
   "outputs": [
    {
     "data": {
      "text/plain": [
       "(50000, 768)"
      ]
     },
     "execution_count": 264,
     "metadata": {},
     "output_type": "execute_result"
    }
   ],
   "source": [
    "X_train.shape"
   ]
  },
  {
   "cell_type": "code",
   "execution_count": null,
   "metadata": {},
   "outputs": [],
   "source": [
    "fu[-X_test.shape[0]:].argmax(-1)==y_test"
   ]
  },
  {
   "cell_type": "code",
   "execution_count": null,
   "metadata": {},
   "outputs": [],
   "source": [
    "y_test.shape"
   ]
  },
  {
   "cell_type": "code",
   "execution_count": null,
   "metadata": {},
   "outputs": [],
   "source": [
    "fu[-X_test.shape[0]:].argmax(-1).shape"
   ]
  },
  {
   "cell_type": "code",
   "execution_count": null,
   "metadata": {},
   "outputs": [],
   "source": [
    "fu.shape"
   ]
  },
  {
   "cell_type": "code",
   "execution_count": null,
   "metadata": {},
   "outputs": [],
   "source": [
    "np.where(u|t)"
   ]
  },
  {
   "cell_type": "code",
   "execution_count": null,
   "metadata": {},
   "outputs": [],
   "source": [
    "np.where(t)"
   ]
  },
  {
   "cell_type": "code",
   "execution_count": null,
   "metadata": {},
   "outputs": [],
   "source": [
    "t.shape"
   ]
  },
  {
   "cell_type": "code",
   "execution_count": null,
   "metadata": {},
   "outputs": [],
   "source": [
    "fu[t].argmax(-1)==y_l"
   ]
  },
  {
   "cell_type": "code",
   "execution_count": null,
   "metadata": {},
   "outputs": [],
   "source": [
    "+0*np.eye(X.shape[0]-lab_size)"
   ]
  },
  {
   "cell_type": "code",
   "execution_count": null,
   "metadata": {},
   "outputs": [],
   "source": [
    "beta = np.linalg.solve(X[l].T@X[l]+100*np.eye(X.shape[1]),X[l].T@oh(y_lab,4))"
   ]
  },
  {
   "cell_type": "code",
   "execution_count": null,
   "metadata": {},
   "outputs": [],
   "source": [
    "((X[l]@beta).argmax(-1)==y_lab).mean()"
   ]
  },
  {
   "cell_type": "code",
   "execution_count": null,
   "metadata": {},
   "outputs": [],
   "source": [
    "((X[u]@beta).argmax(-1)==y_unlab).mean()"
   ]
  },
  {
   "cell_type": "code",
   "execution_count": null,
   "metadata": {},
   "outputs": [],
   "source": [
    "((((x_test-m)/s)@beta).argmax(-1)==y_test).mean()"
   ]
  },
  {
   "cell_type": "code",
   "execution_count": null,
   "metadata": {},
   "outputs": [],
   "source": []
  },
  {
   "cell_type": "code",
   "execution_count": null,
   "metadata": {},
   "outputs": [],
   "source": []
  },
  {
   "cell_type": "code",
   "execution_count": null,
   "metadata": {},
   "outputs": [],
   "source": []
  },
  {
   "cell_type": "code",
   "execution_count": null,
   "metadata": {},
   "outputs": [],
   "source": []
  }
 ],
 "metadata": {
  "kernelspec": {
   "display_name": "Python 3",
   "language": "python",
   "name": "python3"
  },
  "language_info": {
   "codemirror_mode": {
    "name": "ipython",
    "version": 3
   },
   "file_extension": ".py",
   "mimetype": "text/x-python",
   "name": "python",
   "nbconvert_exporter": "python",
   "pygments_lexer": "ipython3",
   "version": "3.6.9"
  }
 },
 "nbformat": 4,
 "nbformat_minor": 2
}
