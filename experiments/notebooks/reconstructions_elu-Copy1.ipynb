{
 "cells": [
  {
   "cell_type": "code",
   "execution_count": 1,
   "metadata": {},
   "outputs": [],
   "source": [
    "import sys,os\n",
    "import glob\n",
    "import torch,dill\n",
    "import torchvision.utils as vutils\n",
    "import matplotlib.pyplot as plt\n",
    "from iresnet import iResBlock\n",
    "from iEluNetwork import iConv2d\n",
    "from spectral_norm import SN\n",
    "import numpy as np\n",
    "import seaborn as sb\n",
    "import torch.nn.functional as F\n",
    "import pandas as pd\n"
   ]
  },
  {
   "cell_type": "code",
   "execution_count": 2,
   "metadata": {},
   "outputs": [
    {
     "name": "stdout",
     "output_type": "stream",
     "text": [
      "['/home/marc/tb-experiments/elu_flow_full_slrelu2/CIFAR10/iEluNetMultiScaleLarger/0.001/trial0/checkpoints/c10.trainer', '/home/marc/tb-experiments/elu_flow_full_slrelu2/CIFAR10/iEluNetMultiScaleLarger/0.001/trial0/checkpoints/c30.trainer', '/home/marc/tb-experiments/elu_flow_full_slrelu2/CIFAR10/iEluNetMultiScaleLarger/0.001/trial0/checkpoints/c20.trainer']\n"
     ]
    }
   ],
   "source": [
    "paths = glob.glob(os.path.expanduser('~/tb-experiments/iresnet_WTW/**/*.trainer'),recursive=True)\n",
    "elu_paths = glob.glob(os.path.expanduser('~/tb-experiments/elu_flow_full_slrelu2/**/*.trainer'),recursive=True)\n",
    "paths = elu_paths\n",
    "print(paths)\n"
   ]
  },
  {
   "cell_type": "code",
   "execution_count": 3,
   "metadata": {},
   "outputs": [
    {
     "name": "stderr",
     "output_type": "stream",
     "text": [
      "/home/marc/anaconda3/lib/python3.6/site-packages/torch/serialization.py:434: SourceChangeWarning: source code of class 'auto_inverse.SequentialWithAutoInverseAndLogDet' has changed. you can retrieve the original source code by accessing the object's source attribute or set `torch.nn.Module.dump_patches = True` and use the patch tool to revert the changes.\n",
      "  warnings.warn(msg, SourceChangeWarning)\n"
     ]
    }
   ],
   "source": [
    "trainer = torch.load(paths[1],pickle_module=dill)\n",
    "trainer.model.eval();"
   ]
  },
  {
   "cell_type": "code",
   "execution_count": null,
   "metadata": {},
   "outputs": [],
   "source": []
  },
  {
   "cell_type": "code",
   "execution_count": null,
   "metadata": {},
   "outputs": [],
   "source": [
    "def change_tol(module):\n",
    "    if isinstance(module,iResBlock):\n",
    "        module.inverse_tol=1e-10\n",
    "        print(module.iters_per_reverse)\n",
    "    if isinstance(module,SN):\n",
    "        print(module._s)\n",
    "    if isinstance(module,iConv2d):\n",
    "        print(module._reverse_iters)\n",
    "        try: print(module.iters_per_reverse)\n",
    "        except ZeroDivisionError: pass\n",
    "trainer.model.apply(change_tol);"
   ]
  },
  {
   "cell_type": "code",
   "execution_count": null,
   "metadata": {},
   "outputs": [],
   "source": [
    "zs = []\n",
    "with torch.no_grad():\n",
    "    for mb in trainer.dataloaders['train']:\n",
    "        z = trainer.model.get_all_z_squashed(mb[0]).reshape(mb[0].shape[0],-1).cpu().data.numpy()\n",
    "        zs.append(z)\n",
    "        if len(zs) > 100: break\n"
   ]
  },
  {
   "cell_type": "code",
   "execution_count": null,
   "metadata": {},
   "outputs": [],
   "source": [
    "Zs = np.concatenate(zs)"
   ]
  },
  {
   "cell_type": "code",
   "execution_count": null,
   "metadata": {},
   "outputs": [],
   "source": [
    "Zs.shape"
   ]
  },
  {
   "cell_type": "code",
   "execution_count": null,
   "metadata": {},
   "outputs": [],
   "source": [
    "#sb.distplot(Zs[:,0])\n",
    "for i in range(10):\n",
    "    sb.distplot(Zs[:,i]+1*i,kde=False,label=i)\n",
    "#plt.yscale('log')\n",
    "#plt.xscale('log')\n",
    "#plt.legend()"
   ]
  },
  {
   "cell_type": "code",
   "execution_count": null,
   "metadata": {},
   "outputs": [],
   "source": [
    "def get_nlls(dataloader):\n",
    "    nlls = []\n",
    "    with torch.no_grad():\n",
    "        for mb in dataloader:\n",
    "            nlls.append(trainer.model.nll(mb[0]).cpu().data.numpy())\n",
    "    return np.concatenate(nlls)"
   ]
  },
  {
   "cell_type": "code",
   "execution_count": null,
   "metadata": {},
   "outputs": [],
   "source": [
    "from oil.datasetup.datasets import CIFAR10,CIFAR100,SVHN\n",
    "from torch.utils.data import DataLoader\n",
    "from oil.utils.utils import LoaderTo"
   ]
  },
  {
   "cell_type": "code",
   "execution_count": null,
   "metadata": {},
   "outputs": [],
   "source": [
    "C100,SVHN_ = [dataset(f'~/datasets/{dataset}/') for dataset in (CIFAR100,SVHN)]\n",
    "C100L,SVHNL =  [LoaderTo(DataLoader(data,batch_size=50,shuffle=False),torch.device('cuda')) for data in (C100,SVHN_)]"
   ]
  },
  {
   "cell_type": "code",
   "execution_count": null,
   "metadata": {},
   "outputs": [],
   "source": [
    "#train_nlls = get_nlls(trainer.dataloaders['train'])\n",
    "#dev_nlls = get_nlls(trainer.dataloaders['dev'])\n",
    "C100_nlls = get_nlls(C100L)\n",
    "SVHN_nlls = get_nlls(SVHNL)"
   ]
  },
  {
   "cell_type": "code",
   "execution_count": null,
   "metadata": {},
   "outputs": [],
   "source": [
    "sb.distplot(train_nlls)\n",
    "sb.distplot(dev_nlls)\n",
    "sb.distplot(C100_nlls)\n",
    "sb.distplot(SVHN_nlls)\n",
    "plt.legend([\"train\",\"dev\",\"CIFAR100\",\"SVHN\"])"
   ]
  },
  {
   "cell_type": "code",
   "execution_count": null,
   "metadata": {},
   "outputs": [],
   "source": [
    "for mb in trainer.dataloaders['dev']:\n",
    "    break\n",
    "inp =x=mb[0]\n",
    "with torch.no_grad():\n",
    "    output = trainer.model.body(inp)\n",
    "    inp_rec = trainer.model.inverse(output)"
   ]
  },
  {
   "cell_type": "code",
   "execution_count": null,
   "metadata": {},
   "outputs": [],
   "source": [
    "for module in trainer.model.body._modules.values():\n",
    "    print(module)"
   ]
  },
  {
   "cell_type": "code",
   "execution_count": 4,
   "metadata": {},
   "outputs": [
    {
     "data": {
      "text/plain": [
       "19"
      ]
     },
     "execution_count": 4,
     "metadata": {},
     "output_type": "execute_result"
    }
   ],
   "source": [
    "trainer.model.logdet()"
   ]
  },
  {
   "cell_type": "code",
   "execution_count": null,
   "metadata": {},
   "outputs": [],
   "source": [
    "((inp_rec[0] - inp[0]).norm()/(inp[0]).norm())"
   ]
  },
  {
   "cell_type": "code",
   "execution_count": null,
   "metadata": {},
   "outputs": [],
   "source": [
    "%debug"
   ]
  },
  {
   "cell_type": "code",
   "execution_count": null,
   "metadata": {},
   "outputs": [],
   "source": [
    "x = np.linspace(-10,5,100)\n",
    "beta = .1\n",
    "alpha = (1-beta)/(1+beta)\n",
    "elu = lambda x: (x>=0)*x +  (x<0)*(np.exp(x)-1)\n",
    "lelu = lambda x: (x+alpha*(np.sqrt(1+x**2)-1))/(1+alpha)\n",
    "leakyrelu = lambda x: (x>=0)*x +  (x<0)*.1*x"
   ]
  },
  {
   "cell_type": "code",
   "execution_count": null,
   "metadata": {},
   "outputs": [],
   "source": [
    "plt.plot(x,elu(x))\n",
    "plt.plot(x,lelu(x))\n",
    "plt.plot(x,leakyrelu(x))\n",
    "plt.legend([\"elu\",r\"smooth lrelu = $(x+\\alpha*(\\sqrt{1+x^2}-1))/(1+\\alpha)$\",r\"Leaky Relu $\\beta = .1$\"])"
   ]
  },
  {
   "cell_type": "code",
   "execution_count": null,
   "metadata": {},
   "outputs": [],
   "source": [
    "def slrelu_inverse(y,a):\n",
    "    b = (1+a)*y + a\n",
    "    x = (np.sqrt(a**2 + (a*b)**2-a**4) - b)/(a**2-1)\n",
    "    return x"
   ]
  },
  {
   "cell_type": "code",
   "execution_count": null,
   "metadata": {},
   "outputs": [],
   "source": [
    "plt.plot(x,slrelu_inverse(lelu(x),alpha))"
   ]
  },
  {
   "cell_type": "code",
   "execution_count": null,
   "metadata": {},
   "outputs": [],
   "source": [
    "inp_rec.shape"
   ]
  },
  {
   "cell_type": "code",
   "execution_count": null,
   "metadata": {},
   "outputs": [],
   "source": [
    "plt.imshow(inp_rec[0].cpu().data.numpy().transpose((1,2,0)))\n",
    "plt.show()\n",
    "plt.imshow(inp[0].cpu().data.numpy().transpose((1,2,0)))\n",
    "plt.show()"
   ]
  },
  {
   "cell_type": "code",
   "execution_count": null,
   "metadata": {},
   "outputs": [],
   "source": [
    "((inp_rec - inp).norm()/(inp[0]).norm())"
   ]
  },
  {
   "cell_type": "code",
   "execution_count": null,
   "metadata": {},
   "outputs": [],
   "source": [
    "plt.hist(output.cpu().numpy().reshape(-1))"
   ]
  },
  {
   "cell_type": "code",
   "execution_count": null,
   "metadata": {},
   "outputs": [],
   "source": [
    "with torch.no_grad():\n",
    "    output = trainer.model[1].body(inp)"
   ]
  },
  {
   "cell_type": "code",
   "execution_count": null,
   "metadata": {},
   "outputs": [],
   "source": [
    "trainer.model.eval()\n",
    "with torch.no_grad():\n",
    "    sampled_imgs = trainer.model.sample(32).cpu().data"
   ]
  },
  {
   "cell_type": "code",
   "execution_count": null,
   "metadata": {},
   "outputs": [],
   "source": [
    "sampled_imgs"
   ]
  },
  {
   "cell_type": "code",
   "execution_count": null,
   "metadata": {},
   "outputs": [],
   "source": [
    "grid = vutils.make_grid(sampled_imgs, normalize=True)\n",
    "plt.imshow(grid.permute(1,2,0))"
   ]
  },
  {
   "cell_type": "code",
   "execution_count": null,
   "metadata": {},
   "outputs": [],
   "source": [
    "grid.shape"
   ]
  },
  {
   "cell_type": "code",
   "execution_count": null,
   "metadata": {},
   "outputs": [],
   "source": [
    "list(z_.shape for z_ in output)"
   ]
  },
  {
   "cell_type": "code",
   "execution_count": null,
   "metadata": {},
   "outputs": [],
   "source": [
    "with torch.no_grad():\n",
    "    inp_reconstructed = trainer.model[1].body.inverse(output);"
   ]
  },
  {
   "cell_type": "code",
   "execution_count": null,
   "metadata": {},
   "outputs": [],
   "source": [
    "((inp_reconstructed[0] - inp[0]).norm()/(inp[0]).norm())"
   ]
  },
  {
   "cell_type": "code",
   "execution_count": null,
   "metadata": {},
   "outputs": [],
   "source": []
  },
  {
   "cell_type": "code",
   "execution_count": null,
   "metadata": {},
   "outputs": [],
   "source": [
    "plt.hist(inp_reconstructed[0].cpu().data.numpy().reshape(-1),alpha=.5)\n",
    "plt.hist(inp[0].cpu().data.numpy().reshape(-1),alpha=.5)"
   ]
  },
  {
   "cell_type": "code",
   "execution_count": null,
   "metadata": {},
   "outputs": [],
   "source": [
    "fig = plt.gcf()\n",
    "fig.set_size_inches(18.5, 10.5)\n",
    "#print(y.shape)\n",
    "grid = vutils.make_grid(mb[0]).cpu().data.numpy().transpose(1,2,0)\n",
    "plt.imshow(grid)\n",
    "plt.show()\n",
    "grid = vutils.make_grid(inp_reconstructed).cpu().data.numpy().transpose(1,2,0)\n",
    "plt.imshow(grid)\n",
    "fig = plt.gcf()\n",
    "fig.set_size_inches(18.5, 10.5)"
   ]
  },
  {
   "cell_type": "code",
   "execution_count": null,
   "metadata": {},
   "outputs": [],
   "source": [
    "for zi in z: print(zi.shape)"
   ]
  },
  {
   "cell_type": "code",
   "execution_count": null,
   "metadata": {},
   "outputs": [],
   "source": [
    "import torch\n",
    "from downsample import SqueezeLayer\n",
    "from downsample import NNdownsample,iAvgPool2d"
   ]
  },
  {
   "cell_type": "code",
   "execution_count": null,
   "metadata": {},
   "outputs": [],
   "source": [
    "S = SqueezeLayer(2)"
   ]
  },
  {
   "cell_type": "code",
   "execution_count": null,
   "metadata": {},
   "outputs": [],
   "source": [
    "x = torch.Tensor([0,1,2,3,4,5,6,7]).reshape(1,2,2,2)"
   ]
  },
  {
   "cell_type": "code",
   "execution_count": null,
   "metadata": {},
   "outputs": [],
   "source": [
    "S(x)"
   ]
  },
  {
   "cell_type": "code",
   "execution_count": null,
   "metadata": {},
   "outputs": [],
   "source": [
    "x"
   ]
  },
  {
   "cell_type": "code",
   "execution_count": null,
   "metadata": {},
   "outputs": [],
   "source": [
    "z = S(x-F.interpolate(F.interpolate(x,scale_factor=1/2),scale_factor=2))"
   ]
  },
  {
   "cell_type": "code",
   "execution_count": null,
   "metadata": {},
   "outputs": [],
   "source": [
    "S2 = iAvgPool2d()#NNdownsample()"
   ]
  },
  {
   "cell_type": "code",
   "execution_count": null,
   "metadata": {},
   "outputs": [],
   "source": [
    "x"
   ]
  },
  {
   "cell_type": "code",
   "execution_count": null,
   "metadata": {},
   "outputs": [],
   "source": [
    "S2.inverse(S2(x))"
   ]
  },
  {
   "cell_type": "code",
   "execution_count": null,
   "metadata": {},
   "outputs": [],
   "source": [
    "S2(x)"
   ]
  },
  {
   "cell_type": "code",
   "execution_count": null,
   "metadata": {},
   "outputs": [],
   "source": []
  },
  {
   "cell_type": "code",
   "execution_count": null,
   "metadata": {},
   "outputs": [],
   "source": []
  }
 ],
 "metadata": {
  "kernelspec": {
   "display_name": "Python 3",
   "language": "python",
   "name": "python3"
  },
  "language_info": {
   "codemirror_mode": {
    "name": "ipython",
    "version": 3
   },
   "file_extension": ".py",
   "mimetype": "text/x-python",
   "name": "python",
   "nbconvert_exporter": "python",
   "pygments_lexer": "ipython3",
   "version": "3.6.7"
  }
 },
 "nbformat": 4,
 "nbformat_minor": 2
}
